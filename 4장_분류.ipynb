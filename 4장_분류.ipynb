{
 "cells": [
  {
   "cell_type": "markdown",
   "metadata": {},
   "source": [
    "# <center>『 파이썬 머신러닝 완벽 가이드 』</center>"
   ]
  },
  {
   "cell_type": "markdown",
   "metadata": {},
   "source": [
    "<img src=\"http://image.kyobobook.co.kr/images/book/large/928/l9791158391928.jpg\">"
   ]
  },
  {
   "cell_type": "markdown",
   "metadata": {},
   "source": [
    "---"
   ]
  },
  {
   "cell_type": "markdown",
   "metadata": {},
   "source": [
    "# 4장. 분류"
   ]
  },
  {
   "cell_type": "markdown",
   "metadata": {},
   "source": [
    "---"
   ]
  },
  {
   "cell_type": "markdown",
   "metadata": {
    "toc": true
   },
   "source": [
    "<h1>Table of Contents<span class=\"tocSkip\"></span></h1>\n",
    "<div class=\"toc\"><ul class=\"toc-item\"><li><span><a href=\"#분류(Classification)의-개요\" data-toc-modified-id=\"분류(Classification)의-개요-1\"><span class=\"toc-item-num\">1&nbsp;&nbsp;</span>분류(Classification)의 개요</a></span></li><li><span><a href=\"#결정-트리(Decision-Tree)\" data-toc-modified-id=\"결정-트리(Decision-Tree)-2\"><span class=\"toc-item-num\">2&nbsp;&nbsp;</span>결정 트리(Decision Tree)</a></span><ul class=\"toc-item\"><li><span><a href=\"#결정-트리-모델의-특징\" data-toc-modified-id=\"결정-트리-모델의-특징-2.1\"><span class=\"toc-item-num\">2.1&nbsp;&nbsp;</span>결정 트리 모델의 특징</a></span></li><li><span><a href=\"#결정-트리-파라미터\" data-toc-modified-id=\"결정-트리-파라미터-2.2\"><span class=\"toc-item-num\">2.2&nbsp;&nbsp;</span>결정 트리 파라미터</a></span></li><li><span><a href=\"#결정-트리-모델의-시각화\" data-toc-modified-id=\"결정-트리-모델의-시각화-2.3\"><span class=\"toc-item-num\">2.3&nbsp;&nbsp;</span>결정 트리 모델의 시각화</a></span></li><li><span><a href=\"#결정-트리-과적합(Overfitting)\" data-toc-modified-id=\"결정-트리-과적합(Overfitting)-2.4\"><span class=\"toc-item-num\">2.4&nbsp;&nbsp;</span>결정 트리 과적합(Overfitting)</a></span></li><li><span><a href=\"#결정-트리-실습---사용자-행동-인식-데이터-세트\" data-toc-modified-id=\"결정-트리-실습---사용자-행동-인식-데이터-세트-2.5\"><span class=\"toc-item-num\">2.5&nbsp;&nbsp;</span>결정 트리 실습 - 사용자 행동 인식 데이터 세트</a></span></li></ul></li><li><span><a href=\"#앙상블-학습\" data-toc-modified-id=\"앙상블-학습-3\"><span class=\"toc-item-num\">3&nbsp;&nbsp;</span>앙상블 학습</a></span></li><li><span><a href=\"#랜덤-포레스트\" data-toc-modified-id=\"랜덤-포레스트-4\"><span class=\"toc-item-num\">4&nbsp;&nbsp;</span>랜덤 포레스트</a></span></li><li><span><a href=\"#GBM\" data-toc-modified-id=\"GBM-5\"><span class=\"toc-item-num\">5&nbsp;&nbsp;</span>GBM</a></span></li><li><span><a href=\"#XGBoost(eXtra-Gradient-Boost)\" data-toc-modified-id=\"XGBoost(eXtra-Gradient-Boost)-6\"><span class=\"toc-item-num\">6&nbsp;&nbsp;</span>XGBoost(eXtra Gradient Boost)</a></span></li><li><span><a href=\"#LightGBM\" data-toc-modified-id=\"LightGBM-7\"><span class=\"toc-item-num\">7&nbsp;&nbsp;</span>LightGBM</a></span></li><li><span><a href=\"#분류-실습---캐글-산탄데르-고객-만족-예측\" data-toc-modified-id=\"분류-실습---캐글-산탄데르-고객-만족-예측-8\"><span class=\"toc-item-num\">8&nbsp;&nbsp;</span>분류 실습 - 캐글 산탄데르 고객 만족 예측</a></span></li><li><span><a href=\"#분류-실습---캐글-신용카드-사기-검출\" data-toc-modified-id=\"분류-실습---캐글-신용카드-사기-검출-9\"><span class=\"toc-item-num\">9&nbsp;&nbsp;</span>분류 실습 - 캐글 신용카드 사기 검출</a></span></li><li><span><a href=\"#스태킹-앙상블\" data-toc-modified-id=\"스태킹-앙상블-10\"><span class=\"toc-item-num\">10&nbsp;&nbsp;</span>스태킹 앙상블</a></span></li></ul></div>"
   ]
  },
  {
   "cell_type": "markdown",
   "metadata": {},
   "source": [
    "--- "
   ]
  },
  {
   "cell_type": "markdown",
   "metadata": {},
   "source": [
    "## 분류(Classification)의 개요"
   ]
  },
  {
   "cell_type": "markdown",
   "metadata": {},
   "source": [
    "지도학습은 레이블(Label), 즉 명시적인 정답이 있는 데이터가 주어진 상태에서 학습하는 머신러닝 방식입니다. 지도학습의 대표적인 유형인 **분류(Classification)**는 학습 데이터로 주어진 데이터의 피처와 레이블값(결정 값, 클래스 값)을 머신러닝 알고리즘으로 학습해 모델을 생성하고, 이렇게 생성된 모델에 새로운 데이터 값이 주어졌을 때 미지의 레이블 값을 예측하는 것입니다.  \n",
    "\n",
    "분류는 다양한 머신러닝 알고리즘으로 구현할 수 있습니다.\n",
    "- 나이브 베이즈(Naive Bayes)\n",
    "- 로지스틱 회귀(Logistic Regression)\n",
    "- 결정 트리(Decision Tree)\n",
    "- 서포트 벡터 머신(Support Vector Machine)\n",
    "- 최소 근접(Nearest Neighbor) 알고리즘\n",
    "- 신경망(Neural Network)\n",
    "- 앙상블(Ensemble)"
   ]
  },
  {
   "cell_type": "markdown",
   "metadata": {},
   "source": [
    "이번 장에서는 **앙상블 방법(Ensemble Method)**을 집중적으로 다룹니다. **정형 데이터의 예측 분석** 영역에서는 **앙상블**이 매우 높은 예측 성능으로 인해 많은 분석가와 데이터 과학자들에게 애용되고 있습니다.  \n",
    "\n",
    "앙상블은 서로 다른/또는 같은 알고리즘을 단순히 결합한 형태도 있으나, 일반적으로는 **배깅(Bagging)**과 **부스팅(Boosting)** 방식으로 나뉩니다. 배깅 방식의 대표인 **랜덤 포레스트(Random Forest)**는 뛰어난 예측 성능, 상대적으로 빠른 수행 시간, 유연성 등으로 많은 분석가가 애용하는 알고리즘입니다. 하지만 근래의 앙상블 방법은 **부스팅** 방식으로 지속해서 발전하고 있습니다. **그래디언트 부스팅(Gradient Boosting)**의 경우 뛰어난 예측 성능을 가지고 있지만, 수행 시간이 너무 오래 걸리는 단점으로 인해 최적화 모델 튜닝이 어려웠습니다. 하지만 **XGBoost**와 **LightGBM** 등 기존 그래디언트 부스팅의 예측 성능을 한 단계 발전시키면서도 수행 시간을 단축시킨 알고리즘이 계속 등장하면서 정형 데이터의 분류 영역에서 가장 활용도가 높은 알고리즘으로 자리잡았습니다.  \n",
    "\n",
    "이 장에서는 앙상블 방법의 개요와 **랜덤 포레스트**, **그래디언트 부스팅**의 전통적인 앙상블 기법뿐만 아니라 부스팅 계열의 최신 기법인 **XGBoost**와 **LightGBM**, 그리고 앙상블의 앙상블이라고 불리는 **스태킹(Stacking)** 기법에 대해 상세히 알아보겠습니다."
   ]
  },
  {
   "cell_type": "markdown",
   "metadata": {},
   "source": [
    "## 결정 트리(Decision Tree)"
   ]
  },
  {
   "cell_type": "markdown",
   "metadata": {},
   "source": [
    "**결정 트리(Decision Tree)**는 ML 알고리즘 중 직관적으로 이해하기 쉬운 알고리즘입니다. 데이터에 있는 규칙을 학습을 통해 자동으로 찾아내 트리(Tree) 기반의 분류 규칙을 만드는 것입니다.  \n",
    "\n",
    "- 규칙 노드(Decision Node): 규칙 조건\n",
    "- 리프 노드(Leaf Node): 결정된 클래스 값\n",
    "\n",
    "많은 규칙이 있다는 것은 곧 과적합으로 이어지기 쉽습니다. 즉, 트리의 깊이(depth)가 길어질수록 결정 트리의 예측 성능이 저하될 가능성이 높습니다."
   ]
  },
  {
   "cell_type": "markdown",
   "metadata": {},
   "source": [
    "<img src=\"https://media.vlpt.us/images/dbj2000/post/9899931f-a1f1-4c00-bbbb-89d4834e1105/image.png\" width=50%>"
   ]
  },
  {
   "cell_type": "markdown",
   "metadata": {},
   "source": [
    "가능한 한 적은 결정 노드로 높은 예픅 정확도를 가지려면 데이터를 분류할 때 최대한 많은 데이터 세트가 해당 분류에 속할 수 있도록 결정 노드의 규칙이 정해져야 합니다.  "
   ]
  },
  {
   "cell_type": "markdown",
   "metadata": {},
   "source": [
    "<img src=\"https://media.vlpt.us/images/dbj2000/post/80dbb250-6868-49e3-9898-01ac1fd23667/image.png\" width=50%>"
   ]
  },
  {
   "cell_type": "markdown",
   "metadata": {},
   "source": [
    "항아리의 균일도는 3 > 2 > 1 순입니다. 항아리를 데이터셋이라 생각한다면, 데이터셋의 균일도가 낮을수록(혼잡도가 높을수록) 데이터를 판단하는 데 있어 더 많은 정보가 필요합니다. 결정 노드는 정보 균일도가 높은 대이터 세트를 먼저 선택할 수 있도록 규칙 조건을 만듭니다.  \n",
    "\n",
    "이러한 정보의 균일도를 측정하는 대표적인 방법은 **1) 엔트로피를 이용한 정보 이득(Information Gain) 지수**와 **2) 지니 계수**가 있습니다."
   ]
  },
  {
   "cell_type": "markdown",
   "metadata": {},
   "source": [
    "- 엔트로피를 이용한 정보 이득\n",
    "- 지니 계수"
   ]
  },
  {
   "cell_type": "markdown",
   "metadata": {},
   "source": [
    "결정 트리 알고리즘을 사이킷런에서 구현한 **DecisionTreeClassifer**는 기본으로 **지니 계수**를 이용해 데이터 세트를 분할합니다.  \n",
    "1. 정보 이득이나 지니 계수가 높은 조건을 찾는다.\n",
    "2. 자식 트리 노드에 반복적으로 분할한다.\n",
    "3. 데이터가 모두 특정 분류에 속하게 되면 분할을 멈추고 분류를 결정한다."
   ]
  },
  {
   "cell_type": "markdown",
   "metadata": {},
   "source": [
    "### 결정 트리 모델의 특징"
   ]
  },
  {
   "cell_type": "markdown",
   "metadata": {},
   "source": [
    "**[ 장점 ]**\n",
    "1. 정보의 '균일도'라는 룰을 기반으로 하고 있어 알고리즘이 쉽고 직관적이다.\n",
    "2. 룰이 매우 명확하기에 어떻게 규칙 노드와 리프 노드가 만들어지는지 시각화할 수 있다.\n",
    "3. 각 피처의 스케일링과 정규화 같은 전처리 작업이 필요 없다.\n",
    "\n",
    "**[ 단점 ]**\n",
    "1. 과적합으로 정확도가 떨어진다. (트리의 크기를 사전에 제한하는 것이 오히려 성능 튜닝에 더 도움이 된다.)"
   ]
  },
  {
   "cell_type": "markdown",
   "metadata": {},
   "source": [
    "### 결정 트리 파라미터"
   ]
  },
  {
   "cell_type": "markdown",
   "metadata": {},
   "source": [
    "- **min_samples_split**  \n",
    "노드를 분할하기 위한 최소한의 샘플 데이터 수  \n",
    "과적합 제어 용도  \n",
    "디폴트 2 (작게 설정할수록 과적합 가능성 증가)  \n",
    "\n",
    "- **min_samples_leaf**  \n",
    "말단 노드가 되기 위한 최소한의 샘플 데이터 수  \n",
    "과적합 제어 용도  \n",
    "비대칭적 데이터(하나의 피처가 과도하게 많은 경우) 에는 특정 클래스의 데이터가 극도로 작을 수 있으므로 작게 설정  \n",
    "말단 노드의 최대 개수  \n",
    "\n",
    "- **max_features**  \n",
    "최적의 분할을 위해 고려할 최대 피처 개수  \n",
    "디폴트 = none (데이터 세트의 모든 피처를 사용해 분할)  \n",
    "max_features = sqrt/ auto : √(전체 피처 개수)  \n",
    "max_features = log2 : log2(피처 개수)  \n",
    "Int형으로 지정하면 대상 피처의 개수, float형으로 지정하면 전체 피처 중 대상 피처의 퍼센트  \n",
    "\n",
    "- **max_depth**  \n",
    "트리의 최대 깊이  \n",
    "디폴트 = None (완벽하게 클래스 결정값이 될 때까지 깊이를 계속 키우며 분할 하거나 노드가 가지는 데이터의 개수가 min_sample_split보다 작아질때까지 계속 깊이를증가 시킨다.)  \n",
    "깊이가 깊어지면 과적합하므로 주의  "
   ]
  },
  {
   "cell_type": "markdown",
   "metadata": {},
   "source": [
    "Q. 주요 파라미터는 뭘까? 그리드 서치할 때 주로 뭘 건드릴까? -> 알아보자!"
   ]
  },
  {
   "cell_type": "markdown",
   "metadata": {},
   "source": [
    "### 결정 트리 모델의 시각화"
   ]
  },
  {
   "cell_type": "markdown",
   "metadata": {},
   "source": [
    "**Graphviz** 패키지를 사용하여 어떠한 규칙을 가지고 트리를 생성하는지 시각적으로 보여줄 수 있습니다. 사이킷런은 이러한 Graphviz 패키지와 쉽게 인터페이스 할 수 있도록 **export_graphviz() API**를 제공합니다.  \n",
    "\n",
    "Download Link: https://graphviz.org/download/"
   ]
  },
  {
   "cell_type": "markdown",
   "metadata": {},
   "source": [
    "붓꽃 데이터 세트에 결정 트리를 적용할 때 어떻게 서브 트리가 구성되고 만들어지는지 시각화해 보겠습니다."
   ]
  },
  {
   "cell_type": "code",
   "execution_count": 7,
   "metadata": {
    "ExecuteTime": {
     "end_time": "2021-01-26T06:22:11.438197Z",
     "start_time": "2021-01-26T06:22:11.405771Z"
    }
   },
   "outputs": [
    {
     "data": {
      "text/plain": [
       "DecisionTreeClassifier(ccp_alpha=0.0, class_weight=None, criterion='gini',\n",
       "                       max_depth=None, max_features=None, max_leaf_nodes=None,\n",
       "                       min_impurity_decrease=0.0, min_impurity_split=None,\n",
       "                       min_samples_leaf=1, min_samples_split=2,\n",
       "                       min_weight_fraction_leaf=0.0, presort='deprecated',\n",
       "                       random_state=156, splitter='best')"
      ]
     },
     "execution_count": 7,
     "metadata": {},
     "output_type": "execute_result"
    }
   ],
   "source": [
    "from sklearn.datasets import load_iris\n",
    "from sklearn.model_selection import train_test_split\n",
    "from sklearn.tree import DecisionTreeClassifier\n",
    "import warnings\n",
    "warnings.filterwarnings('ignore')\n",
    "\n",
    "# DecisionTree Classifier 생성\n",
    "dt_clf = DecisionTreeClassifier(random_state=156)\n",
    "\n",
    "# 붓꽃 데이터를 로딩하고, 학습과 테스트 데이터 셋으로 분리\n",
    "iris_data = load_iris()\n",
    "X_train , X_test , y_train , y_test = train_test_split(iris_data.data, iris_data.target,\n",
    "                                                       test_size=0.2,  random_state=11)\n",
    "\n",
    "# DecisionTreeClassifer 학습. \n",
    "dt_clf.fit(X_train , y_train)"
   ]
  },
  {
   "cell_type": "code",
   "execution_count": 16,
   "metadata": {
    "ExecuteTime": {
     "end_time": "2021-01-26T06:26:58.871472Z",
     "start_time": "2021-01-26T06:26:58.859472Z"
    }
   },
   "outputs": [],
   "source": [
    "from sklearn.tree import export_graphviz\n",
    "\n",
    "# export_graphviz()의 호출 결과로 out_file로 지정된 tree.dot 파일을 생성함. \n",
    "export_graphviz(dt_clf, out_file=\"tree.dot\", class_names=iris_data.target_names , \\\n",
    "feature_names = iris_data.feature_names, impurity=True, filled=True)"
   ]
  },
  {
   "cell_type": "code",
   "execution_count": 1,
   "metadata": {
    "ExecuteTime": {
     "end_time": "2021-01-26T06:32:11.822932Z",
     "start_time": "2021-01-26T06:32:11.661855Z"
    }
   },
   "outputs": [
    {
     "ename": "ModuleNotFoundError",
     "evalue": "No module named 'graphviz'",
     "output_type": "error",
     "traceback": [
      "\u001b[1;31m---------------------------------------------------------------------------\u001b[0m",
      "\u001b[1;31mModuleNotFoundError\u001b[0m                       Traceback (most recent call last)",
      "\u001b[1;32m<ipython-input-1-616d2accb26c>\u001b[0m in \u001b[0;36m<module>\u001b[1;34m\u001b[0m\n\u001b[1;32m----> 1\u001b[1;33m \u001b[1;32mimport\u001b[0m \u001b[0mgraphviz\u001b[0m\u001b[1;33m\u001b[0m\u001b[1;33m\u001b[0m\u001b[0m\n\u001b[0m\u001b[0;32m      2\u001b[0m \u001b[1;33m\u001b[0m\u001b[0m\n\u001b[0;32m      3\u001b[0m \u001b[1;31m# 위에서 생성된 tree.dot 파일을 Graphviz 읽어서 Jupyter Notebook상에서 시각화\u001b[0m\u001b[1;33m\u001b[0m\u001b[1;33m\u001b[0m\u001b[1;33m\u001b[0m\u001b[0m\n\u001b[0;32m      4\u001b[0m \u001b[1;32mwith\u001b[0m \u001b[0mopen\u001b[0m\u001b[1;33m(\u001b[0m\u001b[1;34m\"tree.dot\"\u001b[0m\u001b[1;33m)\u001b[0m \u001b[1;32mas\u001b[0m \u001b[0mf\u001b[0m\u001b[1;33m:\u001b[0m\u001b[1;33m\u001b[0m\u001b[1;33m\u001b[0m\u001b[0m\n\u001b[0;32m      5\u001b[0m     \u001b[0mdot_graph\u001b[0m \u001b[1;33m=\u001b[0m \u001b[0mf\u001b[0m\u001b[1;33m.\u001b[0m\u001b[0mread\u001b[0m\u001b[1;33m(\u001b[0m\u001b[1;33m)\u001b[0m\u001b[1;33m\u001b[0m\u001b[1;33m\u001b[0m\u001b[0m\n",
      "\u001b[1;31mModuleNotFoundError\u001b[0m: No module named 'graphviz'"
     ]
    }
   ],
   "source": [
    "import graphviz\n",
    "\n",
    "# 위에서 생성된 tree.dot 파일을 Graphviz 읽어서 Jupyter Notebook상에서 시각화 \n",
    "with open(\"tree.dot\") as f:\n",
    "    dot_graph = f.read()\n",
    "graphviz.Source(dot_graph)"
   ]
  },
  {
   "cell_type": "markdown",
   "metadata": {},
   "source": [
    "사이킷런은 결정 트리 알고리즘이 학습을 통해 규칙을 정하는 데 있어 **피처의 중요한 역할 지표**를 **DecisionTreeClassifier** 객체의 **feature_importance_** 속성으로 제공합니다. feature_importances_ 속성을 가져와 피처별로 중요도 값을 매핑하고 이를 막대그래프로 표현해 보겠습니다."
   ]
  },
  {
   "cell_type": "code",
   "execution_count": 18,
   "metadata": {
    "ExecuteTime": {
     "end_time": "2021-01-26T06:27:11.942004Z",
     "start_time": "2021-01-26T06:27:09.327176Z"
    }
   },
   "outputs": [
    {
     "name": "stdout",
     "output_type": "stream",
     "text": [
      "Feature importances:\n",
      "[0.025 0.    0.555 0.42 ]\n",
      "sepal length (cm) : 0.025\n",
      "sepal width (cm) : 0.000\n",
      "petal length (cm) : 0.555\n",
      "petal width (cm) : 0.420\n"
     ]
    },
    {
     "data": {
      "text/plain": [
       "<matplotlib.axes._subplots.AxesSubplot at 0x222d2430e48>"
      ]
     },
     "execution_count": 18,
     "metadata": {},
     "output_type": "execute_result"
    },
    {
     "data": {
      "image/png": "[encoded data removed]",
      "text/plain": [
       "<Figure size 432x288 with 1 Axes>"
      ]
     },
     "metadata": {
      "needs_background": "light"
     },
     "output_type": "display_data"
    }
   ],
   "source": [
    "import seaborn as sns\n",
    "import numpy as np\n",
    "%matplotlib inline\n",
    "\n",
    "# feature importance 추출 \n",
    "print(\"Feature importances:\\n{0}\".format(np.round(dt_clf.feature_importances_, 3)))\n",
    "\n",
    "# feature별 importance 매핑\n",
    "for name, value in zip(iris_data.feature_names , dt_clf.feature_importances_):\n",
    "    print('{0} : {1:.3f}'.format(name, value))\n",
    "\n",
    "# feature importance를 column 별로 시각화 하기 \n",
    "sns.barplot(x=dt_clf.feature_importances_ , y=iris_data.feature_names)"
   ]
  },
  {
   "cell_type": "markdown",
   "metadata": {},
   "source": [
    "일반적으로 다른 알고리즘이 블랙박스라고 불리듯이 알고리즘 내부의 동작 원리가 복잡한 데 반해 결정 트리는 알고리즘 자체가 직관적이기 때문에 알고리즘과 관련된 요소를 시각적으로 표현할 수 있는 다양한 방안이 있습니다."
   ]
  },
  {
   "cell_type": "markdown",
   "metadata": {},
   "source": [
    "### 결정 트리 과적합(Overfitting)"
   ]
  },
  {
   "cell_type": "markdown",
   "metadata": {},
   "source": [
    "결정 트리가 어떻게 학습 데이터를 분할해 예측을 수행하는지와 이로 인한 과적합 문제를 시각화해 알아보겠습니다. 사이킷런은 분류를 위한 테스트용 데이터를 쉽게 만들 수 있도록 **make_classificaion()** 함수를 제공합ㄴ다. 2개의 피처가 3가지 유형의 클래스 값을 가지는 데이터 세트를 만들고 이를 그래프 형태로 시각화하겠습니다."
   ]
  },
  {
   "cell_type": "code",
   "execution_count": 5,
   "metadata": {
    "ExecuteTime": {
     "end_time": "2021-01-26T06:40:28.542542Z",
     "start_time": "2021-01-26T06:40:28.197523Z"
    }
   },
   "outputs": [
    {
     "data": {
      "text/plain": [
       "<matplotlib.collections.PathCollection at 0x2de46ebf888>"
      ]
     },
     "execution_count": 5,
     "metadata": {},
     "output_type": "execute_result"
    },
    {
     "data": {
      "image/png": "[encoded data removed]",
      "text/plain": [
       "<Figure size 432x288 with 1 Axes>"
      ]
     },
     "metadata": {
      "needs_background": "light"
     },
     "output_type": "display_data"
    }
   ],
   "source": [
    "from sklearn.datasets import make_classification\n",
    "import matplotlib.pyplot as plt\n",
    "%matplotlib inline\n",
    "\n",
    "plt.title(\"3 Class values with 2 Features Sample data creation\")\n",
    "\n",
    "# 2차원 시각화를 위해서 feature는 2개, 결정값 클래스는 3가지 유형의 classification 샘플 데이터 생성. \n",
    "X_features, y_labels = make_classification(n_features=2, n_redundant=0, n_informative=2,\n",
    "                             n_classes=3, n_clusters_per_class=1,random_state=0)\n",
    "\n",
    "# plot 형태로 2개의 feature로 2차원 좌표 시각화, 각 클래스값은 다른 색깔로 표시됨. \n",
    "plt.scatter(X_features[:, 0], X_features[:, 1], marker='o', c=y_labels, s=25, cmap='rainbow', edgecolor='k')"
   ]
  },
  {
   "cell_type": "markdown",
   "metadata": {},
   "source": [
    "결정 트리 모델이 어떠한 결정 기준을 가지고 분할하면서 데이터를 분류하는지 확인할 것입니다. 이를 위해 별도의 visualize_boundary() 함수를 생성했습니다."
   ]
  },
  {
   "cell_type": "code",
   "execution_count": 6,
   "metadata": {
    "ExecuteTime": {
     "end_time": "2021-01-26T06:40:29.319397Z",
     "start_time": "2021-01-26T06:40:29.303443Z"
    }
   },
   "outputs": [],
   "source": [
    "import numpy as np\n",
    "\n",
    "# Classifier의 Decision Boundary를 시각화 하는 함수\n",
    "def visualize_boundary(model, X, y):\n",
    "    fig,ax = plt.subplots()\n",
    "    \n",
    "    # 학습 데이타 scatter plot으로 나타내기\n",
    "    ax.scatter(X[:, 0], X[:, 1], c=y, s=25, cmap='rainbow', edgecolor='k',\n",
    "               clim=(y.min(), y.max()), zorder=3)\n",
    "    ax.axis('tight')\n",
    "    ax.axis('off')\n",
    "    xlim_start , xlim_end = ax.get_xlim()\n",
    "    ylim_start , ylim_end = ax.get_ylim()\n",
    "    \n",
    "    # 호출 파라미터로 들어온 training 데이타로 model 학습 . \n",
    "    model.fit(X, y)\n",
    "    # meshgrid 형태인 모든 좌표값으로 예측 수행. \n",
    "    xx, yy = np.meshgrid(np.linspace(xlim_start,xlim_end, num=200),np.linspace(ylim_start,ylim_end, num=200))\n",
    "    Z = model.predict(np.c_[xx.ravel(), yy.ravel()]).reshape(xx.shape)\n",
    "    \n",
    "    # contourf() 를 이용하여 class boundary 를 visualization 수행. \n",
    "    n_classes = len(np.unique(y))\n",
    "    contours = ax.contourf(xx, yy, Z, alpha=0.3,\n",
    "                           levels=np.arange(n_classes + 1) - 0.5,\n",
    "                           cmap='rainbow', clim=(y.min(), y.max()),\n",
    "                           zorder=1)"
   ]
  },
  {
   "cell_type": "markdown",
   "metadata": {},
   "source": [
    "일부 이상치(Outlier) 데이터까지 분류하기 위해 분할이 자주 일어나서 결정 기준 경계가 매우 많아졌습니다."
   ]
  },
  {
   "cell_type": "code",
   "execution_count": 7,
   "metadata": {
    "ExecuteTime": {
     "end_time": "2021-01-26T06:40:49.497700Z",
     "start_time": "2021-01-26T06:40:49.181548Z"
    }
   },
   "outputs": [
    {
     "name": "stderr",
     "output_type": "stream",
     "text": [
      "C:\\Users\\kmmnj\\Anaconda3\\lib\\site-packages\\ipykernel_launcher.py:26: UserWarning: The following kwargs were not used by contour: 'clim'\n"
     ]
    },
    {
     "data": {
      "image/png": "[encoded data removed]",
      "text/plain": [
       "<Figure size 432x288 with 1 Axes>"
      ]
     },
     "metadata": {
      "needs_background": "light"
     },
     "output_type": "display_data"
    }
   ],
   "source": [
    "from sklearn.tree import DecisionTreeClassifier\n",
    "\n",
    "# 특정한 트리 생성 제약없는 결정 트리의 Decsion Boundary 시각화.\n",
    "dt_clf = DecisionTreeClassifier().fit(X_features, y_labels)\n",
    "visualize_boundary(dt_clf, X_features, y_labels)"
   ]
  },
  {
   "cell_type": "markdown",
   "metadata": {},
   "source": [
    "이번에는 min_samples_leaf = 6을 설정해 6개 이하의 데이터는리프 노드를 생성할 수 있도록 리프 노드 생성 규칙을 완화하였습니다."
   ]
  },
  {
   "cell_type": "code",
   "execution_count": 8,
   "metadata": {
    "ExecuteTime": {
     "end_time": "2021-01-26T06:40:56.345167Z",
     "start_time": "2021-01-26T06:40:56.251417Z"
    }
   },
   "outputs": [
    {
     "name": "stderr",
     "output_type": "stream",
     "text": [
      "C:\\Users\\kmmnj\\Anaconda3\\lib\\site-packages\\ipykernel_launcher.py:26: UserWarning: The following kwargs were not used by contour: 'clim'\n"
     ]
    },
    {
     "data": {
      "image/png": "[encoded data removed]",
      "text/plain": [
       "<Figure size 432x288 with 1 Axes>"
      ]
     },
     "metadata": {
      "needs_background": "light"
     },
     "output_type": "display_data"
    }
   ],
   "source": [
    "# min_samples_leaf=6 으로 트리 생성 조건을 제약한 Decision Boundary 시각화\n",
    "dt_clf = DecisionTreeClassifier( min_samples_leaf=6).fit(X_features, y_labels)\n",
    "visualize_boundary(dt_clf, X_features, y_labels)"
   ]
  },
  {
   "cell_type": "markdown",
   "metadata": {},
   "source": [
    "이상치에 크게 반응하지 않으면서 좀 더 일반화된 분류 규칙에 따라 분류됐음을 알 수 있습니다."
   ]
  },
  {
   "cell_type": "markdown",
   "metadata": {},
   "source": [
    "### 결정 트리 실습 - 사용자 행동 인식 데이터 세트"
   ]
  },
  {
   "cell_type": "code",
   "execution_count": 9,
   "metadata": {
    "ExecuteTime": {
     "end_time": "2021-01-26T06:47:10.271872Z",
     "start_time": "2021-01-26T06:47:10.267884Z"
    }
   },
   "outputs": [],
   "source": [
    "# 일단 pass"
   ]
  },
  {
   "cell_type": "markdown",
   "metadata": {},
   "source": [
    "## 앙상블 학습"
   ]
  },
  {
   "cell_type": "code",
   "execution_count": null,
   "metadata": {},
   "outputs": [],
   "source": []
  },
  {
   "cell_type": "markdown",
   "metadata": {},
   "source": [
    "## 랜덤 포레스트"
   ]
  },
  {
   "cell_type": "code",
   "execution_count": null,
   "metadata": {},
   "outputs": [],
   "source": []
  },
  {
   "cell_type": "markdown",
   "metadata": {},
   "source": [
    "## GBM"
   ]
  },
  {
   "cell_type": "code",
   "execution_count": null,
   "metadata": {},
   "outputs": [],
   "source": []
  },
  {
   "cell_type": "markdown",
   "metadata": {},
   "source": [
    "## XGBoost(eXtra Gradient Boost)"
   ]
  },
  {
   "cell_type": "code",
   "execution_count": null,
   "metadata": {},
   "outputs": [],
   "source": []
  },
  {
   "cell_type": "markdown",
   "metadata": {},
   "source": [
    "## LightGBM"
   ]
  },
  {
   "cell_type": "code",
   "execution_count": null,
   "metadata": {},
   "outputs": [],
   "source": []
  },
  {
   "cell_type": "markdown",
   "metadata": {},
   "source": [
    "## 분류 실습 - 캐글 산탄데르 고객 만족 예측"
   ]
  },
  {
   "cell_type": "code",
   "execution_count": null,
   "metadata": {},
   "outputs": [],
   "source": []
  },
  {
   "cell_type": "markdown",
   "metadata": {},
   "source": [
    "## 분류 실습 - 캐글 신용카드 사기 검출"
   ]
  },
  {
   "cell_type": "code",
   "execution_count": null,
   "metadata": {},
   "outputs": [],
   "source": []
  },
  {
   "cell_type": "markdown",
   "metadata": {},
   "source": [
    "## 스태킹 앙상블"
   ]
  },
  {
   "cell_type": "code",
   "execution_count": null,
   "metadata": {},
   "outputs": [],
   "source": []
  }
 ],
 "metadata": {
  "kernelspec": {
   "display_name": "Python 3",
   "language": "python",
   "name": "python3"
  },
  "language_info": {
   "codemirror_mode": {
    "name": "ipython",
    "version": 3
   },
   "file_extension": ".py",
   "mimetype": "text/x-python",
   "name": "python",
   "nbconvert_exporter": "python",
   "pygments_lexer": "ipython3",
   "version": "3.7.6"
  },
  "toc": {
   "base_numbering": 1,
   "nav_menu": {},
   "number_sections": true,
   "sideBar": true,
   "skip_h1_title": true,
   "title_cell": "Table of Contents",
   "title_sidebar": "Contents",
   "toc_cell": true,
   "toc_position": {
    "height": "calc(100% - 180px)",
    "left": "10px",
    "top": "150px",
    "width": "165px"
   },
   "toc_section_display": true,
   "toc_window_display": true
  },
  "varInspector": {
   "cols": {
    "lenName": 16,
    "lenType": 16,
    "lenVar": 40
   },
   "kernels_config": {
    "python": {
     "delete_cmd_postfix": "",
     "delete_cmd_prefix": "del ",
     "library": "var_list.py",
     "varRefreshCmd": "print(var_dic_list())"
    },
    "r": {
     "delete_cmd_postfix": ") ",
     "delete_cmd_prefix": "rm(",
     "library": "var_list.r",
     "varRefreshCmd": "cat(var_dic_list()) "
    }
   },
   "types_to_exclude": [
    "module",
    "function",
    "builtin_function_or_method",
    "instance",
    "_Feature"
   ],
   "window_display": false
  }
 },
 "nbformat": 4,
 "nbformat_minor": 4
}
